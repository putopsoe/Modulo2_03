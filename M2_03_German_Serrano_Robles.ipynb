{
 "cells": [
  {
   "cell_type": "code",
   "execution_count": 1,
   "id": "a4f95b9c",
   "metadata": {},
   "outputs": [
    {
     "name": "stdout",
     "output_type": "stream",
     "text": [
      "El número introducido es: 3\n",
      "El tipo de dato es: <class 'str'>\n"
     ]
    }
   ],
   "source": [
    "num = input(\"Escribe un número: \")\n",
    "print(\"El número introducido es:\", num)\n",
    "print(\"El tipo de dato es:\", type(num))"
   ]
  },
  {
   "cell_type": "code",
   "execution_count": 2,
   "id": "f8ea171d",
   "metadata": {},
   "outputs": [
    {
     "name": "stdout",
     "output_type": "stream",
     "text": [
      "El número introducido es: 4\n",
      "El tipo de dato es: <class 'int'>\n"
     ]
    }
   ],
   "source": [
    "num = int(input(\"Escribe un número: \"))\n",
    "print(\"El número introducido es:\", num)\n",
    "print(\"El tipo de dato es:\", type(num))"
   ]
  },
  {
   "cell_type": "code",
   "execution_count": 3,
   "id": "2db9f861",
   "metadata": {},
   "outputs": [
    {
     "name": "stdout",
     "output_type": "stream",
     "text": [
      "El número introducido es: 2.0\n",
      "El tipo de dato es: <class 'float'>\n"
     ]
    }
   ],
   "source": [
    "num = float(input(\"Escribe un número: \"))\n",
    "print(\"El número introducido es:\", num)\n",
    "print(\"El tipo de dato es:\", type(num))"
   ]
  },
  {
   "cell_type": "code",
   "execution_count": 4,
   "id": "3341696c",
   "metadata": {},
   "outputs": [
    {
     "name": "stdout",
     "output_type": "stream",
     "text": [
      "00005\n",
      "00005.000\n"
     ]
    }
   ],
   "source": [
    "num1 = int(input(\"Escribe un número entero: \"))\n",
    "print(\"{:05d}\".format(num1))\n",
    "num2 = float(input(\"Escribe un número decimal: \"))\n",
    "print(\"{:09.3f}\".format(num2))"
   ]
  },
  {
   "cell_type": "code",
   "execution_count": null,
   "id": "6b83f7e8",
   "metadata": {},
   "outputs": [],
   "source": [
    "altura = float(input(\"Escribe tu altura: \"))\n",
    "peso = float(input(\"Escribe tu peso: \"))\n",
    "print(\"Tu altura es de\", altura, \"metros y tu peso es de\", peso, \"kg.\")\n",
    "print(\"Tu altura es de {} metros y tu peso es de {} kg.\".format(altura, peso))"
   ]
  }
 ],
 "metadata": {
  "kernelspec": {
   "display_name": "Python 3",
   "language": "python",
   "name": "python3"
  },
  "language_info": {
   "codemirror_mode": {
    "name": "ipython",
    "version": 3
   },
   "file_extension": ".py",
   "mimetype": "text/x-python",
   "name": "python",
   "nbconvert_exporter": "python",
   "pygments_lexer": "ipython3",
   "version": "3.13.7"
  }
 },
 "nbformat": 4,
 "nbformat_minor": 5
}
